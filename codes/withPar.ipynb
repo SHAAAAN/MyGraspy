{
 "cells": [
  {
   "cell_type": "code",
   "execution_count": 1,
   "metadata": {},
   "outputs": [],
   "source": [
    "import numpy as np\n",
    "import math\n",
    "import graspy\n",
    "from scipy.optimize import linear_sum_assignment\n",
    "from scipy.optimize import minimize_scalar\n",
    "from sklearn.utils import check_array\n",
    "from skp import SinkhornKnopp\n",
    "from joblib import Parallel, delayed\n",
    "from graspy.simulations import er_np\n",
    "import time"
   ]
  },
  {
   "cell_type": "code",
   "execution_count": 2,
   "metadata": {},
   "outputs": [],
   "source": [
    "n = 500\n",
    "p = 0.3\n",
    "np.random.seed(1)\n",
    "G1 = er_np(n=n, p=p)"
   ]
  },
  {
   "cell_type": "markdown",
   "metadata": {},
   "source": [
    "# from Ali's codes:"
   ]
  },
  {
   "cell_type": "code",
   "execution_count": 4,
   "metadata": {},
   "outputs": [
    {
     "name": "stdout",
     "output_type": "stream",
     "text": [
      "the run time is:  566.3917241096497\n",
      "Number of edge disagreements:  87324.0\n"
     ]
    }
   ],
   "source": [
    "from faq import FastApproximateQAP\n",
    "\n",
    "np.random.seed(1)\n",
    "G1 = er_np(n=n, p=p)\n",
    "\n",
    "node_shuffle_input = np.random.permutation(n)\n",
    "G2 = G1[np.ix_(node_shuffle_input, node_shuffle_input)]\n",
    "\n",
    "start = time.time()\n",
    "gmp = FastApproximateQAP(n_init=80,init_method=\"rand\",gmp=True)\n",
    "gmp = gmp.fit(G1,G2)\n",
    "G2 = G2[np.ix_(gmp.perm_inds_, gmp.perm_inds_)]\n",
    "end = time.time()\n",
    "\n",
    "print('the run time is: ',str(end-start))\n",
    "print(\"Number of edge disagreements: \", sum(sum(abs(G1-G2))))"
   ]
  },
  {
   "cell_type": "markdown",
   "metadata": {},
   "source": [
    "# after adding parallel:"
   ]
  },
  {
   "cell_type": "code",
   "execution_count": 5,
   "metadata": {},
   "outputs": [
    {
     "name": "stdout",
     "output_type": "stream",
     "text": [
      "the run time is:  345.2561490535736\n",
      "Number of edge disagreements:  87304.0\n"
     ]
    }
   ],
   "source": [
    "from par305 import FastApproximateQAP \n",
    "\n",
    "np.random.seed(1)\n",
    "G1 = er_np(n=n, p=p)\n",
    "\n",
    "node_shuffle_input = np.random.permutation(n)\n",
    "G2 = G1[np.ix_(node_shuffle_input, node_shuffle_input)]\n",
    "\n",
    "start = time.time()\n",
    "gmp = FastApproximateQAP(n_init=50,init_method=\"rand\",gmp=True)\n",
    "gmp = gmp.fit(G1,G2)\n",
    "G2 = G2[np.ix_(gmp.perm_inds_, gmp.perm_inds_)]\n",
    "end = time.time()\n",
    "\n",
    "print('the run time is: ',str(end-start))\n",
    "print(\"Number of edge disagreements: \", sum(sum(abs(G1-G2))))"
   ]
  },
  {
   "cell_type": "code",
   "execution_count": 3,
   "metadata": {},
   "outputs": [
    {
     "name": "stdout",
     "output_type": "stream",
     "text": [
      "the run time is:  328.8633940219879\n",
      "Number of edge disagreements:  87288.0\n"
     ]
    }
   ],
   "source": [
    "from par304 import FastApproximateQAP \n",
    "\n",
    "np.random.seed(1)\n",
    "G1 = er_np(n=n, p=p)\n",
    "\n",
    "node_shuffle_input = np.random.permutation(n)\n",
    "G2 = G1[np.ix_(node_shuffle_input, node_shuffle_input)]\n",
    "\n",
    "start = time.time()\n",
    "gmp = FastApproximateQAP(n_init=50,init_method=\"rand\",gmp=True)\n",
    "gmp = gmp.fit(G1,G2)\n",
    "G2 = G2[np.ix_(gmp.perm_inds_, gmp.perm_inds_)]\n",
    "end = time.time()\n",
    "\n",
    "print('the run time is: ',str(end-start))\n",
    "print(\"Number of edge disagreements: \", sum(sum(abs(G1-G2))))"
   ]
  },
  {
   "cell_type": "code",
   "execution_count": null,
   "metadata": {},
   "outputs": [],
   "source": []
  }
 ],
 "metadata": {
  "kernelspec": {
   "display_name": "Python 3",
   "language": "python",
   "name": "python3"
  },
  "language_info": {
   "codemirror_mode": {
    "name": "ipython",
    "version": 3
   },
   "file_extension": ".py",
   "mimetype": "text/x-python",
   "name": "python",
   "nbconvert_exporter": "python",
   "pygments_lexer": "ipython3",
   "version": "3.6.8"
  }
 },
 "nbformat": 4,
 "nbformat_minor": 2
}
