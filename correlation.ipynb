{
 "cells": [
  {
   "cell_type": "code",
   "execution_count": 1,
   "metadata": {},
   "outputs": [],
   "source": [
    "from graspy.simulations import er_np\n",
    "from scipy.stats import bernoulli\n",
    "import copy\n",
    "\n",
    "\n",
    "def er_corr(n, p, rho=0.2):\n",
    "    G1 = er_np(n, p)\n",
    "    origin_G1 = copy.deepcopy(G1)\n",
    "    sumG1 = 0\n",
    "    for i in range(n):\n",
    "        for j in range(n):\n",
    "            sumG1 += origin_G1[i][j]\n",
    "    print(sumG1 / n ** 2)\n",
    "\n",
    "    for i in range(n):\n",
    "        for j in range(n):\n",
    "            if G1[i][j] == 1:\n",
    "                G1[i][j] = bernoulli.rvs(p+rho*(1-p), size=1, loc=0)\n",
    "            else:\n",
    "                G1[i][j] = bernoulli.rvs(p*(1-rho), size=1, loc=0)\n",
    "    sumG2 = 0\n",
    "    for i in range(n):\n",
    "        for j in range(n):\n",
    "            sumG2 += G1[i][j]\n",
    "    print(sumG2/n**2)\n",
    "\n",
    "    return origin_G1, G1"
   ]
  },
  {
   "cell_type": "code",
   "execution_count": 2,
   "metadata": {},
   "outputs": [
    {
     "name": "stdout",
     "output_type": "stream",
     "text": [
      "0.5042\n",
      "0.5061\n"
     ]
    }
   ],
   "source": [
    "G1, G2 = er_corr(100, 0.5)"
   ]
  }
 ],
 "metadata": {
  "kernelspec": {
   "display_name": "Python 3",
   "language": "python",
   "name": "python3"
  },
  "language_info": {
   "codemirror_mode": {
    "name": "ipython",
    "version": 3
   },
   "file_extension": ".py",
   "mimetype": "text/x-python",
   "name": "python",
   "nbconvert_exporter": "python",
   "pygments_lexer": "ipython3",
   "version": "3.6.8"
  }
 },
 "nbformat": 4,
 "nbformat_minor": 2
}
