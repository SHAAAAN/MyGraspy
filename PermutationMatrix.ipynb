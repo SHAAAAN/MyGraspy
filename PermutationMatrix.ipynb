{
 "cells": [
  {
   "cell_type": "markdown",
   "metadata": {},
   "source": [
    "### Generate a permutration matrix"
   ]
  },
  {
   "cell_type": "code",
   "execution_count": 20,
   "metadata": {},
   "outputs": [
    {
     "data": {
      "text/plain": [
       "array([[0., 0., 0., 1., 0., 0., 0., 0., 0., 0.],\n",
       "       [0., 0., 1., 0., 0., 0., 0., 0., 0., 0.],\n",
       "       [1., 0., 0., 0., 0., 0., 0., 0., 0., 0.],\n",
       "       [0., 0., 0., 0., 0., 0., 0., 0., 0., 1.],\n",
       "       [0., 0., 0., 0., 0., 0., 0., 0., 1., 0.],\n",
       "       [0., 0., 0., 0., 0., 0., 0., 1., 0., 0.],\n",
       "       [0., 0., 0., 0., 1., 0., 0., 0., 0., 0.],\n",
       "       [0., 0., 0., 0., 0., 1., 0., 0., 0., 0.],\n",
       "       [0., 0., 0., 0., 0., 0., 1., 0., 0., 0.],\n",
       "       [0., 1., 0., 0., 0., 0., 0., 0., 0., 0.]])"
      ]
     },
     "execution_count": 20,
     "metadata": {},
     "output_type": "execute_result"
    }
   ],
   "source": [
    "#The easiest way\n",
    "#using shuffle function\n",
    "#N dimension\n",
    "import numpy as np\n",
    "def perm(n):\n",
    "    arr=np.eye(n,k=0)\n",
    "    np.random.shuffle(arr)\n",
    "    return arr\n",
    "perm(10)"
   ]
  },
  {
   "cell_type": "code",
   "execution_count": 30,
   "metadata": {},
   "outputs": [],
   "source": [
    "#Self writen\n",
    "#Full rank with n dimension\n",
    "import copy\n",
    "import numpy as np\n",
    "import random\n",
    "\n",
    "\n",
    "def generate1(dim):\n",
    "    result = []\n",
    "    index = []\n",
    "    for i in range(dim):\n",
    "        sub = []\n",
    "        for j in range(dim):\n",
    "            sub.append(0)\n",
    "            index.append((i, j))\n",
    "        result.append(sub)\n",
    "    index2 = copy.deepcopy(index)\n",
    "    for i in range(dim):\n",
    "        a = random.choice(index)\n",
    "        result[a[0]][a[1]] = 1\n",
    "        for item in index:\n",
    "            if item[0] == a[0]:\n",
    "                index2.remove(item)\n",
    "            elif item[1] == a[1]:\n",
    "                index2.remove(item)\n",
    "        index = copy.deepcopy(index2)\n",
    "    return np.mat(result)"
   ]
  },
  {
   "cell_type": "code",
   "execution_count": 34,
   "metadata": {},
   "outputs": [
    {
     "data": {
      "text/plain": [
       "matrix([[0, 0, 0, 0, 0, 0, 0, 1],\n",
       "        [0, 0, 1, 0, 0, 0, 0, 0],\n",
       "        [1, 0, 0, 0, 0, 0, 0, 0],\n",
       "        [0, 0, 0, 1, 0, 0, 0, 0],\n",
       "        [0, 1, 0, 0, 0, 0, 0, 0],\n",
       "        [0, 0, 0, 0, 1, 0, 0, 0],\n",
       "        [0, 0, 0, 0, 0, 1, 0, 0],\n",
       "        [0, 0, 0, 0, 0, 0, 1, 0]])"
      ]
     },
     "execution_count": 34,
     "metadata": {},
     "output_type": "execute_result"
    }
   ],
   "source": [
    "generate1(8)"
   ]
  },
  {
   "cell_type": "code",
   "execution_count": 32,
   "metadata": {},
   "outputs": [],
   "source": [
    "#Self writen\n",
    "#Custom different rows and columns\n",
    "#May don't have mathematical meaning\n",
    "import copy\n",
    "import numpy as np\n",
    "import random\n",
    "\n",
    "\n",
    "def generate2(row, col):\n",
    "    result = []\n",
    "    index = []\n",
    "    for i in range(row):\n",
    "        sub = []\n",
    "        for j in range(col):\n",
    "            sub.append(0)\n",
    "            index.append((i, j))\n",
    "        result.append(sub)\n",
    "    index2 = copy.deepcopy(index)\n",
    "    for i in range(min(row, col)):\n",
    "        a = random.choice(index)\n",
    "        result[a[0]][a[1]] = 1\n",
    "        for item in index:\n",
    "            if item[0] == a[0]:\n",
    "                index2.remove(item)\n",
    "            elif item[1] == a[1]:\n",
    "                index2.remove(item)\n",
    "        index = copy.deepcopy(index2)\n",
    "    return np.mat(result)"
   ]
  },
  {
   "cell_type": "code",
   "execution_count": 36,
   "metadata": {},
   "outputs": [
    {
     "data": {
      "text/plain": [
       "matrix([[0, 0, 0, 0, 0],\n",
       "        [0, 0, 0, 0, 1],\n",
       "        [0, 0, 0, 0, 0],\n",
       "        [0, 1, 0, 0, 0],\n",
       "        [0, 0, 1, 0, 0],\n",
       "        [0, 0, 0, 1, 0],\n",
       "        [1, 0, 0, 0, 0]])"
      ]
     },
     "execution_count": 36,
     "metadata": {},
     "output_type": "execute_result"
    }
   ],
   "source": [
    "generate2(7, 5)"
   ]
  }
 ],
 "metadata": {
  "kernelspec": {
   "display_name": "Python 3",
   "language": "python",
   "name": "python3"
  },
  "language_info": {
   "codemirror_mode": {
    "name": "ipython",
    "version": 3
   },
   "file_extension": ".py",
   "mimetype": "text/x-python",
   "name": "python",
   "nbconvert_exporter": "python",
   "pygments_lexer": "ipython3",
   "version": "3.6.8"
  }
 },
 "nbformat": 4,
 "nbformat_minor": 2
}
