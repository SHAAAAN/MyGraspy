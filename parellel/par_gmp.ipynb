{
 "nbformat": 4,
 "nbformat_minor": 2,
 "metadata": {
  "language_info": {
   "name": "python",
   "codemirror_mode": {
    "name": "ipython",
    "version": 3
   },
   "version": "3.6.8-final"
  },
  "orig_nbformat": 2,
  "file_extension": ".py",
  "mimetype": "text/x-python",
  "name": "python",
  "npconvert_exporter": "python",
  "pygments_lexer": "ipython3",
  "version": 3,
  "kernelspec": {
   "name": "python36864bitanaconda3virtualenv8d896f8891e34b738088b46e94e06b93",
   "display_name": "Python 3.6.8 64-bit ('anaconda3': virtualenv)"
  }
 },
 "cells": [
  {
   "cell_type": "code",
   "execution_count": 1,
   "metadata": {},
   "outputs": [],
   "source": [
    "import numpy as np\n",
    "import math\n",
    "from scipy.optimize import linear_sum_assignment\n",
    "from scipy.optimize import minimize_scalar\n",
    "from sklearn.utils import check_array\n",
    "from sklearn.utils import column_or_1d\n",
    "from skp import SinkhornKnopp  # .\n",
    "from joblib import Parallel, delayed"
   ]
  },
  {
   "cell_type": "code",
   "execution_count": 29,
   "metadata": {},
   "outputs": [],
   "source": [
    "from par_gmp import GraphMatch"
   ]
  },
  {
   "cell_type": "code",
   "execution_count": 4,
   "metadata": {},
   "outputs": [],
   "source": [
    "from graspy.plot import heatmap\n",
    "from graspy.simulations import er_corr, sbm, sbm_corr\n",
    "import random\n",
    "import time\n",
    "import datetime as dt\n",
    "from graspy.match import GraphMatch as GMP"
   ]
  },
  {
   "cell_type": "code",
   "execution_count": 5,
   "metadata": {},
   "outputs": [],
   "source": [
    "np.random.seed(8888)\n",
    "directed = False\n",
    "loops = False\n",
    "n_per_block = 50\n",
    "n_blocks = 3\n",
    "block_members = np.array(n_blocks * [n_per_block])\n",
    "n_verts = block_members.sum()\n",
    "rho = 0.5\n",
    "block_probs = np.array([[0.7, 0.3, 0.4], [0.3, 0.7, 0.3], [0.4, 0.3, 0.7]])"
   ]
  },
  {
   "cell_type": "code",
   "execution_count": 20,
   "metadata": {},
   "outputs": [
    {
     "output_type": "stream",
     "name": "stdout",
     "text": "0:00:27.678517 elapsed for serial\n"
    }
   ],
   "source": [
    "# run GMP in serial\n",
    "A1, A2 = sbm_corr(block_members, block_probs, rho, directed=directed, loops=loops)\n",
    "# shuffle for testing\n",
    "node_shuffle_input = np.random.permutation(n_verts)\n",
    "A2_shuffle = A2[np.ix_(node_shuffle_input, node_shuffle_input)]\n",
    "node_unshuffle_input = np.array(range(n_verts))\n",
    "node_unshuffle_input[node_shuffle_input] = np.array(range(n_verts))\n",
    "\n",
    "n_init = 50  # parameter for GMP\n",
    "start = dt.datetime.now()\n",
    "\n",
    "sgm = GMP(n_init=n_init, init_method=\"rand\")\n",
    "sgm = sgm.fit(A1, A2_shuffle)\n",
    "\n",
    "A2_unshuffle = A2_shuffle[np.ix_(sgm.perm_inds_, sgm.perm_inds_)]\n",
    "match_ratio = 1 - (\n",
    "    np.count_nonzero(abs(sgm.perm_inds_ - node_unshuffle_input)) / n_verts\n",
    ")\n",
    "print(f\"{dt.datetime.now() - start} elapsed for serial\")"
   ]
  },
  {
   "cell_type": "code",
   "execution_count": 21,
   "metadata": {},
   "outputs": [
    {
     "output_type": "stream",
     "name": "stdout",
     "text": "Match Ratio (serial)  0.033333333333333326\nOptimal objective (serial)  6448.0\n"
    }
   ],
   "source": [
    "print(\"Match Ratio (serial) \", match_ratio)\n",
    "print(\"Optimal objective (serial) \", sgm.score_)"
   ]
  },
  {
   "cell_type": "code",
   "execution_count": 50,
   "metadata": {},
   "outputs": [
    {
     "output_type": "stream",
     "name": "stdout",
     "text": "0:00:17.591734 elapsed for parallel\n"
    }
   ],
   "source": [
    "# run GMP in parallel\n",
    "A1, A2 = sbm_corr(block_members, block_probs, rho, directed=directed, loops=loops)\n",
    "# shuffle for testing\n",
    "node_shuffle_input = np.random.permutation(n_verts)\n",
    "A2_shuffle = A2[np.ix_(node_shuffle_input, node_shuffle_input)]\n",
    "node_unshuffle_input = np.array(range(n_verts))\n",
    "node_unshuffle_input[node_shuffle_input] = np.array(range(n_verts))\n",
    "\n",
    "n_init = 50\n",
    "start = dt.datetime.now()\n",
    "np.random.seed(12345)\n",
    "sgm_par = GraphMatch(n_init=n_init, init_method=\"rand\")\n",
    "sgm_par = sgm_par.fit(A1, A2_shuffle)\n",
    "\n",
    "A2_unshuffle = A2_shuffle[np.ix_(sgm_par.perm_inds_, sgm_par.perm_inds_)]\n",
    "match_ratio = 1 - (np.count_nonzero(abs(sgm_par.perm_inds_ - node_unshuffle_input)) / n_verts)\n",
    "\n",
    "print(f\"{dt.datetime.now() - start} elapsed for parallel\")"
   ]
  },
  {
   "cell_type": "code",
   "execution_count": 51,
   "metadata": {},
   "outputs": [
    {
     "output_type": "stream",
     "name": "stdout",
     "text": "Match Ratio (parallel)  0.00666666666666671\nOptimal objective (parallel)  6222.0\n"
    }
   ],
   "source": [
    "print(\"Match Ratio (parallel) \", match_ratio)\n",
    "print(\"Optimal objective (parallel) \", sgm_par.score_)"
   ]
  },
  {
   "cell_type": "code",
   "execution_count": 52,
   "metadata": {},
   "outputs": [
    {
     "output_type": "stream",
     "name": "stdout",
     "text": "0:01:07.374317 elapsed for serial\n"
    }
   ],
   "source": [
    "# run GMP in serial\n",
    "n_init = 120  # parameter for GMP\n",
    "start = dt.datetime.now()\n",
    "\n",
    "sgm = GMP(n_init=n_init, init_method=\"rand\")\n",
    "sgm = sgm.fit(A1, A2_shuffle)\n",
    "\n",
    "A2_unshuffle = A2_shuffle[np.ix_(sgm_par.perm_inds_, sgm_par.perm_inds_)]\n",
    "match_ratio = 1 - (np.count_nonzero(abs(sgm_par.perm_inds_ - node_unshuffle_input)) / n_verts)\n",
    "\n",
    "print(f\"{dt.datetime.now() - start} elapsed for serial\")"
   ]
  },
  {
   "cell_type": "code",
   "execution_count": 12,
   "metadata": {},
   "outputs": [
    {
     "output_type": "stream",
     "name": "stdout",
     "text": "Match Ratio (serial)  0.013333333333333308\nOptimal objective (serial)  6522.0\n"
    }
   ],
   "source": [
    "print(\"Match Ratio (serial) \", match_ratio)\n",
    "print(\"Optimal objective (serial) \", sgm.score_)"
   ]
  },
  {
   "cell_type": "code",
   "execution_count": 59,
   "metadata": {},
   "outputs": [
    {
     "output_type": "stream",
     "name": "stdout",
     "text": "0:00:38.247793 elapsed for parallel\n"
    }
   ],
   "source": [
    "# run GMP in parallel\n",
    "A1, A2 = sbm_corr(block_members, block_probs, rho, directed=directed, loops=loops)\n",
    "# shuffle for testing\n",
    "node_shuffle_input = np.random.permutation(n_verts)\n",
    "A2_shuffle = A2[np.ix_(node_shuffle_input, node_shuffle_input)]\n",
    "node_unshuffle_input = np.array(range(n_verts))\n",
    "node_unshuffle_input[node_shuffle_input] = np.array(range(n_verts))\n",
    "\n",
    "n_init = 120\n",
    "start = dt.datetime.now()\n",
    "np.random.seed(12345)\n",
    "sgm_par = GraphMatch(n_init=n_init, init_method=\"rand\")\n",
    "sgm_par = sgm_par.fit(A1, A2_shuffle)\n",
    "\n",
    "A2_unshuffle = A2_shuffle[np.ix_(sgm_par.perm_inds_, sgm_par.perm_inds_)]\n",
    "match_ratio = 1 - (np.count_nonzero(abs(sgm_par.perm_inds_ - node_unshuffle_input)) / n_verts)\n",
    "\n",
    "print(f\"{dt.datetime.now() - start} elapsed for parallel\")"
   ]
  },
  {
   "cell_type": "code",
   "execution_count": 60,
   "metadata": {},
   "outputs": [
    {
     "output_type": "stream",
     "name": "stdout",
     "text": "Match Ratio (parallel)  0.0\nOptimal objective (parallel)  6504.0\n"
    }
   ],
   "source": [
    "print(\"Match Ratio (parallel) \", match_ratio)\n",
    "print(\"Optimal objective (parallel) \", sgm_par.score_)"
   ]
  },
  {
   "cell_type": "code",
   "execution_count": 55,
   "metadata": {},
   "outputs": [
    {
     "output_type": "stream",
     "name": "stdout",
     "text": "0:01:02.754261 elapsed for parallel\n"
    }
   ],
   "source": [
    "# run GMP in parallel\n",
    "A1, A2 = sbm_corr(block_members, block_probs, rho, directed=directed, loops=loops)\n",
    "# shuffle for testing\n",
    "node_shuffle_input = np.random.permutation(n_verts)\n",
    "A2_shuffle = A2[np.ix_(node_shuffle_input, node_shuffle_input)]\n",
    "node_unshuffle_input = np.array(range(n_verts))\n",
    "node_unshuffle_input[node_shuffle_input] = np.array(range(n_verts))\n",
    "\n",
    "n_init = 200\n",
    "start = dt.datetime.now()\n",
    "np.random.seed(12345)\n",
    "sgm_par = GraphMatch(n_init=n_init, init_method=\"rand\")\n",
    "sgm_par = sgm_par.fit(A1, A2_shuffle)\n",
    "\n",
    "A2_unshuffle = A2_shuffle[np.ix_(sgm_par.perm_inds_, sgm_par.perm_inds_)]\n",
    "match_ratio = 1 - (np.count_nonzero(abs(sgm_par.perm_inds_ - node_unshuffle_input)) / n_verts)\n",
    "\n",
    "print(f\"{dt.datetime.now() - start} elapsed for parallel\")"
   ]
  },
  {
   "cell_type": "code",
   "execution_count": 56,
   "metadata": {},
   "outputs": [
    {
     "output_type": "stream",
     "name": "stdout",
     "text": "Match Ratio (parallel)  0.07999999999999996\nOptimal objective (parallel)  6540.0\n"
    }
   ],
   "source": [
    "print(\"Match Ratio (parallel) \", match_ratio)\n",
    "print(\"Optimal objective (parallel) \", sgm_par.score_)"
   ]
  },
  {
   "cell_type": "code",
   "execution_count": null,
   "metadata": {},
   "outputs": [],
   "source": []
  }
 ]
}